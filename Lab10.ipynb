{
 "cells": [
  {
   "cell_type": "code",
   "execution_count": 1,
   "metadata": {},
   "outputs": [
    {
     "name": "stdout",
     "output_type": "stream",
     "text": [
      "Requirement already satisfied: pyreadstat in c:\\users\\cristian aguirre\\appdata\\local\\programs\\python\\python310\\lib\\site-packages (1.2.1)\n",
      "Requirement already satisfied: pandas>=1.2.0 in c:\\users\\cristian aguirre\\appdata\\local\\programs\\python\\python310\\lib\\site-packages (from pyreadstat) (1.4.2)\n",
      "Requirement already satisfied: python-dateutil>=2.8.1 in c:\\users\\cristian aguirre\\appdata\\local\\programs\\python\\python310\\lib\\site-packages (from pandas>=1.2.0->pyreadstat) (2.8.2)\n",
      "Requirement already satisfied: pytz>=2020.1 in c:\\users\\cristian aguirre\\appdata\\local\\programs\\python\\python310\\lib\\site-packages (from pandas>=1.2.0->pyreadstat) (2021.3)\n",
      "Requirement already satisfied: numpy>=1.21.0 in c:\\users\\cristian aguirre\\appdata\\local\\programs\\python\\python310\\lib\\site-packages (from pandas>=1.2.0->pyreadstat) (1.23.5)\n",
      "Requirement already satisfied: six>=1.5 in c:\\users\\cristian aguirre\\appdata\\local\\programs\\python\\python310\\lib\\site-packages (from python-dateutil>=2.8.1->pandas>=1.2.0->pyreadstat) (1.16.0)\n",
      "Note: you may need to restart the kernel to use updated packages.\n"
     ]
    },
    {
     "name": "stderr",
     "output_type": "stream",
     "text": [
      "WARNING: Ignoring invalid distribution -orch (c:\\users\\cristian aguirre\\appdata\\local\\programs\\python\\python310\\lib\\site-packages)\n",
      "WARNING: Ignoring invalid distribution -rotobuf (c:\\users\\cristian aguirre\\appdata\\local\\programs\\python\\python310\\lib\\site-packages)\n",
      "WARNING: Ignoring invalid distribution -orch (c:\\users\\cristian aguirre\\appdata\\local\\programs\\python\\python310\\lib\\site-packages)\n",
      "WARNING: Ignoring invalid distribution -rotobuf (c:\\users\\cristian aguirre\\appdata\\local\\programs\\python\\python310\\lib\\site-packages)\n",
      "\n",
      "[notice] A new release of pip is available: 23.2.1 -> 23.3.1\n",
      "[notice] To update, run: python.exe -m pip install --upgrade pip\n"
     ]
    }
   ],
   "source": [
    "%pip install pyreadstat"
   ]
  },
  {
   "cell_type": "code",
   "execution_count": 3,
   "metadata": {},
   "outputs": [
    {
     "name": "stdout",
     "output_type": "stream",
     "text": [
      "   REGION  DEPTO  AREA  UPM  NUMHOG  FACTOR  FACTOR3  POBREZA  THOGAR  PPB01  \\\n",
      "0     1.0    1.0   1.0  1.0     1.0   525.0   1575.0      3.0     3.0    2.0   \n",
      "1     1.0    1.0   1.0  1.0     2.0   525.0   1575.0      3.0     3.0    2.0   \n",
      "2     1.0    1.0   1.0  1.0     3.0   525.0   9450.0      2.0    18.0    2.0   \n",
      "3     1.0    1.0   1.0  1.0     4.0   525.0   3150.0      2.0     6.0    2.0   \n",
      "4     1.0    1.0   1.0  1.0     5.0   525.0   1575.0      3.0     3.0    2.0   \n",
      "\n",
      "   ...  P01H10  P01H11  P01H12  P01H13  P01H14  P01H15  P01H16  DIA_ENC  \\\n",
      "0  ...     NaN     NaN     NaN     NaN     NaN     NaN     NaN     22.0   \n",
      "1  ...     NaN     NaN     NaN     NaN     NaN     NaN     NaN     27.0   \n",
      "2  ...     1.0     1.0     1.0     1.0     1.0     1.0     1.0     22.0   \n",
      "3  ...     2.0     2.0     2.0     2.0     2.0     2.0     2.0     24.0   \n",
      "4  ...     NaN     NaN     NaN     NaN     NaN     NaN     NaN     22.0   \n",
      "\n",
      "   MES_ENC   A_ENC  \n",
      "0      8.0  2014.0  \n",
      "1      8.0  2014.0  \n",
      "2      8.0  2014.0  \n",
      "3      8.0  2014.0  \n",
      "4      8.0  2014.0  \n",
      "\n",
      "[5 rows x 163 columns]\n",
      "   REGION  DEPTO  AREA  UPM  NUMHOG  FACTOR  FACTOR3  POBREZA  THOGAR  PPB01  \\\n",
      "0     1.0    1.0   1.0  1.0     1.0   525.0   1575.0      3.0     3.0    2.0   \n",
      "1     1.0    1.0   1.0  1.0     2.0   525.0   1575.0      3.0     3.0    2.0   \n",
      "2     1.0    1.0   1.0  1.0     3.0   525.0   9450.0      2.0    18.0    2.0   \n",
      "3     1.0    1.0   1.0  1.0     4.0   525.0   3150.0      2.0     6.0    2.0   \n",
      "4     1.0    1.0   1.0  1.0     5.0   525.0   1575.0      3.0     3.0    2.0   \n",
      "\n",
      "   ...  P01H10  P01H11  P01H12  P01H13  P01H14  P01H15  P01H16  DIA_ENC  \\\n",
      "0  ...     NaN     NaN     NaN     NaN     NaN     NaN     NaN     22.0   \n",
      "1  ...     NaN     NaN     NaN     NaN     NaN     NaN     NaN     27.0   \n",
      "2  ...     1.0     1.0     1.0     1.0     1.0     1.0     1.0     22.0   \n",
      "3  ...     2.0     2.0     2.0     2.0     2.0     2.0     2.0     24.0   \n",
      "4  ...     NaN     NaN     NaN     NaN     NaN     NaN     NaN     22.0   \n",
      "\n",
      "   MES_ENC   A_ENC  \n",
      "0      8.0  2014.0  \n",
      "1      8.0  2014.0  \n",
      "2      8.0  2014.0  \n",
      "3      8.0  2014.0  \n",
      "4      8.0  2014.0  \n",
      "\n",
      "[5 rows x 163 columns]\n"
     ]
    }
   ],
   "source": [
    "import pyreadstat\n",
    "import pandas as pd\n",
    "\n",
    "data_hogar, metadata_hogar = pyreadstat.read_sav(\"ENCOVI_Hogar.sav\")\n",
    "df_H = pd.DataFrame(data_hogar)\n",
    "\n",
    "print(df_H.head())\n"
   ]
  },
  {
   "cell_type": "code",
   "execution_count": null,
   "metadata": {},
   "outputs": [],
   "source": [
    "data_personas, metadata_personas = pyreadstat.read_sav(\"ENCOVI_Personas.sav\")\n",
    "df_P = pd.DataFrame(data_hogar)\n",
    "print(df_P.head())"
   ]
  }
 ],
 "metadata": {
  "kernelspec": {
   "display_name": "Python 3",
   "language": "python",
   "name": "python3"
  },
  "language_info": {
   "codemirror_mode": {
    "name": "ipython",
    "version": 3
   },
   "file_extension": ".py",
   "mimetype": "text/x-python",
   "name": "python",
   "nbconvert_exporter": "python",
   "pygments_lexer": "ipython3",
   "version": "3.10.9"
  }
 },
 "nbformat": 4,
 "nbformat_minor": 2
}
