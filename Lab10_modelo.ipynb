{
 "cells": [
  {
   "cell_type": "code",
   "execution_count": 1,
   "metadata": {},
   "outputs": [],
   "source": [
    "import pyreadstat\n",
    "import pandas as pd\n",
    "\n",
    "data_hogar, metadata_hogar = pyreadstat.read_sav(\"ENCOVI_Hogar.sav\")\n",
    "df_H = pd.DataFrame(data_hogar)\n",
    "data_personas, metadata_personas = pyreadstat.read_sav(\"ENCOVI_Personas.sav\")\n",
    "df_P = pd.DataFrame(data_personas)\n",
    "\n",
    "columnas_deseadas_df_H = ['POBREZA', 'REGION', 'DEPTO', 'AREA', 'THOGAR', 'PPB01', 'PPB02', 'PPB04', 'PPA11A', 'P01A01', 'P01A02', 'P01A03', 'P01A04', 'P01A05A', 'P01A05C', 'P01A06', 'P01D03', 'P01D08', 'MES_ENC', 'A_ENC']\n",
    "df_H = df_H[columnas_deseadas_df_H]\n",
    "\n",
    "columnas_deseadas_df_P = ['POBREZA', 'REGION', 'DEPTO', 'AREA', 'THOGAR', 'PPA02', 'PPA03', 'PPA06']\n",
    "df_P = df_P[columnas_deseadas_df_P]\n",
    "\n",
    "# Renombrar las columnas en DataFrame df_H\n",
    "nombres_columnas_df_H = {\n",
    "    'Pobreza': 'POBREZA',\n",
    "    'Region': 'REGION',\n",
    "    'Departamento': 'DEPTO',\n",
    "    'Area': 'AREA',\n",
    "    'Thogar': 'THOGAR',\n",
    "    'PPB01': 'COCINAN',\n",
    "    'PPB02': 'CANT_HOGARES',\n",
    "    'PPB04': 'CANT_HABITANTES',\n",
    "    'PPA11A': 'VIVE_EN_OTRO_PAIS',\n",
    "    'P01A01': 'TIPO_HOGAR',\n",
    "    'P01A02': 'MATERIAL_PARED',\n",
    "    'P01A03': 'MATERIAL_TECHO',\n",
    "    'P01A04': 'MATERIAL_PISO',\n",
    "    'P01A05A': 'RED_AGUA',\n",
    "    'P01A05C': 'RED_ELECTRICA',\n",
    "    'P01A06': 'HABITACIONES',\n",
    "    'P01D03': 'NEGOCIOS',\n",
    "    'P01D08': 'TIPO_SERVICIO_AGUA',\n",
    "    'MES_ENC': 'MES_ENC',\n",
    "    'A_ENC': 'A_ENC'\n",
    "}\n",
    "\n",
    "df_H = df_H.rename(columns=nombres_columnas_df_H)\n",
    "\n",
    "# Renombrar las columnas en DataFrame df_P\n",
    "nombres_columnas_df_P = {\n",
    "    'Pobreza': 'POBREZA',\n",
    "    'Region': 'REGION',\n",
    "    'Departamento': 'DEPTO',\n",
    "    'Area': 'AREA',\n",
    "    'Thogar': 'THOGAR',\n",
    "    'PPA02': 'SEXO',\n",
    "    'PPA03': 'EDAD',\n",
    "    'PPA06': 'ESTADO_CIVIL'\n",
    "}\n",
    "\n",
    "df_P = df_P.rename(columns=nombres_columnas_df_P)\n",
    "\n",
    "df_H['TIPO_SERVICIO_AGUA'].fillna(4, inplace=True)"
   ]
  },
  {
   "cell_type": "code",
   "execution_count": 2,
   "metadata": {},
   "outputs": [],
   "source": [
    "from sklearn.model_selection import train_test_split\n",
    "\n",
    "# Splitting df_H\n",
    "X_H = df_H.drop('POBREZA', axis=1)  # Features\n",
    "y_H = df_H['POBREZA']  # Target variable\n",
    "\n",
    "# Splitting df_P\n",
    "X_P = df_P.drop('POBREZA', axis=1)  # Features\n",
    "y_P = df_P['POBREZA']  # Target variable\n",
    "\n",
    "# Splitting df_H into training and testing sets\n",
    "X_train_H, X_test_H, y_train_H, y_test_H = train_test_split(X_H, y_H, test_size=0.2, random_state=42)\n",
    "\n",
    "# Splitting df_P into training and testing sets\n",
    "X_train_P, X_test_P, y_train_P, y_test_P = train_test_split(X_P, y_P, test_size=0.2, random_state=42)\n"
   ]
  },
  {
   "cell_type": "code",
   "execution_count": null,
   "metadata": {},
   "outputs": [],
   "source": []
  }
 ],
 "metadata": {
  "kernelspec": {
   "display_name": "Python 3",
   "language": "python",
   "name": "python3"
  },
  "language_info": {
   "codemirror_mode": {
    "name": "ipython",
    "version": 3
   },
   "file_extension": ".py",
   "mimetype": "text/x-python",
   "name": "python",
   "nbconvert_exporter": "python",
   "pygments_lexer": "ipython3",
   "version": "3.10.5"
  }
 },
 "nbformat": 4,
 "nbformat_minor": 2
}
